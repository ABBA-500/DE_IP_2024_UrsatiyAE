{
 "cells": [
  {
   "cell_type": "code",
   "execution_count": 1,
   "id": "653dbad8-ac0f-4bbf-b554-4418d90f72c2",
   "metadata": {},
   "outputs": [],
   "source": [
    "import cv2\n",
    "import numpy as np"
   ]
  },
  {
   "cell_type": "code",
   "execution_count": 2,
   "id": "41314dd3-afbe-4bd3-b3a7-5a4672cf279a",
   "metadata": {},
   "outputs": [],
   "source": [
    "# Загружаем изображение в градациях серого\n",
    "image = cv2.imread('sar_1_gray.jpg', cv2.IMREAD_GRAYSCALE)\n",
    "if image is None:\n",
    "    raise FileNotFoundError(\"Ошибка: изображение не загружено. Проверьте путь к файлу.\")\n",
    "\n",
    "# Сохраняем оригинальное изображение в текстовый файл\n",
    "np.savetxt('original_image.txt', image, fmt='%d')"
   ]
  },
  {
   "cell_type": "code",
   "execution_count": 3,
   "id": "c93e2d7a-2554-431d-a93b-d030b7d8c8eb",
   "metadata": {},
   "outputs": [],
   "source": [
    "# Выполняем преобразование Хаара\n",
    "rows, cols = image.shape\n",
    "LL = (image[0::2, 0::2] + image[0::2, 1::2] + image[1::2, 0::2] + image[1::2, 1::2]) / 4\n",
    "LH = (image[0::2, 0::2] + image[0::2, 1::2] - image[1::2, 0::2] - image[1::2, 1::2]) / 4\n",
    "HL = (image[0::2, 0::2] - image[0::2, 1::2] + image[1::2, 0::2] - image[1::2, 1::2]) / 4\n",
    "HH = (image[0::2, 0::2] - image[0::2, 1::2] - image[1::2, 0::2] + image[1::2, 1::2]) / 4\n",
    "\n",
    "# Если размеры не совпадают, можно дополнить меньший массив\n",
    "#if LH.shape[0] != LL.shape[0]:\n",
    "#    LH = np.pad(LH, ((0, LL.shape[0] - LH.shape[0]), (0, 0)), mode='constant')"
   ]
  },
  {
   "cell_type": "code",
   "execution_count": 4,
   "id": "8a34917e-52e4-432a-8da8-90a98be729e1",
   "metadata": {},
   "outputs": [],
   "source": [
    "# Квантуем коэффициенты\n",
    "levels = 4\n",
    "min_val = np.min(LH)\n",
    "max_val = np.max(LH)\n",
    "step = (max_val - min_val) / levels\n",
    "LH_quantized = np.floor((LH - min_val) / step) * step + min_val\n",
    "\n",
    "min_val = np.min(HL)\n",
    "max_val = np.max(HL)\n",
    "step = (max_val - min_val) / levels\n",
    "HL_quantized = np.floor((HL - min_val) / step) * step + min_val\n",
    "\n",
    "min_val = np.min(HH)\n",
    "max_val = np.max(HH)\n",
    "step = (max_val - min_val) / levels\n",
    "HH_quantized = np.floor((HH - min_val) / step) * step + min_val"
   ]
  },
  {
   "cell_type": "code",
   "execution_count": 5,
   "id": "4ad439ab-437b-4513-b6ca-e5e6ad39b4fc",
   "metadata": {},
   "outputs": [],
   "source": [
    "# Кодируем с помощью кодирования с длиной пробега\n",
    "def run_length_encode(data):\n",
    "    flattened = data.flatten()\n",
    "    encoded = []\n",
    "    prev = flattened[0]\n",
    "    count = 1\n",
    "    for value in flattened[1:]:\n",
    "        if value == prev:\n",
    "            count += 1\n",
    "        else:\n",
    "            encoded.append((prev, count))\n",
    "            prev = value\n",
    "            count = 1\n",
    "    encoded.append((prev, count))  # Добавляем последний элемент\n",
    "    return encoded"
   ]
  },
  {
   "cell_type": "code",
   "execution_count": 6,
   "id": "86de6100-df08-4a84-a408-3431373f6754",
   "metadata": {},
   "outputs": [],
   "source": [
    "LH_encoded = run_length_encode(LH_quantized)\n",
    "HL_encoded = run_length_encode(HL_quantized)\n",
    "HH_encoded = run_length_encode(HH_quantized)"
   ]
  },
  {
   "cell_type": "code",
   "execution_count": 7,
   "id": "0ad0b70a-eec1-459f-926a-3ed654bb5b69",
   "metadata": {},
   "outputs": [],
   "source": [
    "\n",
    "# Сохраняем результаты в файл\n",
    "with open('haar_output.txt', 'w') as f:\n",
    "    np.savetxt(f, LL, fmt='%f')\n",
    "    \n",
    "    for label, encoded in zip([\"LH\", \"HL\", \"HH\"], [LH_encoded, HL_encoded, HH_encoded]):\n",
    "        f.write(f\"{label}:\\n\")\n",
    "        for value, count in encoded:\n",
    "            f.write(f\"{value} {count}\\n\")"
   ]
  },
  {
   "cell_type": "code",
   "execution_count": 8,
   "id": "18514bb1-9baa-44d7-9fac-f8403a624761",
   "metadata": {},
   "outputs": [],
   "source": [
    "# Вычисляем размеры\n",
    "original_size = image.nbytes\n",
    "LL_size = LL.nbytes\n",
    "LH_size = sum(len(str(value)) + len(str(count)) + 2 for value, count in LH_encoded)\n",
    "HL_size = sum(len(str(value)) + len(str(count)) + 2 for value, count in HL_encoded)\n",
    "HH_size = sum(len(str(value)) + len(str(count)) + 2 for value, count in HH_encoded)\n",
    "compressed_size = LL_size + LH_size + HL_size + HH_size"
   ]
  },
  {
   "cell_type": "code",
   "execution_count": 9,
   "id": "09aacacb-2cd4-4ebf-af1c-e04af0736b17",
   "metadata": {},
   "outputs": [
    {
     "name": "stdout",
     "output_type": "stream",
     "text": [
      "Исходный размер: 240000 байт\n",
      "Размер после сжатия: 1341486 байт\n",
      "Коэффициент сжатия: 0.18\n"
     ]
    }
   ],
   "source": [
    "# Выводим информацию о размерах\n",
    "print(f\"Исходный размер: {original_size} байт\")\n",
    "print(f\"Размер после сжатия: {compressed_size} байт\")\n",
    "print(f\"Коэффициент сжатия: {original_size / compressed_size:.2f}\")"
   ]
  },
  {
   "cell_type": "code",
   "execution_count": null,
   "id": "6c2b4fe1-c618-4643-865a-207a66c97b7e",
   "metadata": {},
   "outputs": [],
   "source": []
  }
 ],
 "metadata": {
  "kernelspec": {
   "display_name": "Python 3 (ipykernel)",
   "language": "python",
   "name": "python3"
  },
  "language_info": {
   "codemirror_mode": {
    "name": "ipython",
    "version": 3
   },
   "file_extension": ".py",
   "mimetype": "text/x-python",
   "name": "python",
   "nbconvert_exporter": "python",
   "pygments_lexer": "ipython3",
   "version": "3.12.1"
  }
 },
 "nbformat": 4,
 "nbformat_minor": 5
}
